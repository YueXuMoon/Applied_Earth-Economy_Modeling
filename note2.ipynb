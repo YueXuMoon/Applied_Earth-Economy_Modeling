{
  "nbformat": 4,
  "nbformat_minor": 0,
  "metadata": {
    "colab": {
      "provenance": [],
      "toc_visible": true,
      "authorship_tag": "ABX9TyPcVC2HZ0OjpazVa9lTSv+E",
      "include_colab_link": true
    },
    "kernelspec": {
      "name": "python3",
      "display_name": "Python 3"
    },
    "language_info": {
      "name": "python"
    }
  },
  "cells": [
    {
      "cell_type": "markdown",
      "metadata": {
        "id": "view-in-github",
        "colab_type": "text"
      },
      "source": [
        "<a href=\"https://colab.research.google.com/github/YueXuMoon/Applied_Earth-Economy_Modeling/blob/main/note2.ipynb\" target=\"_parent\"><img src=\"https://colab.research.google.com/assets/colab-badge.svg\" alt=\"Open In Colab\"/></a>"
      ]
    },
    {
      "cell_type": "markdown",
      "source": [
        "# Note2: Banerjee et al(2020, 2025)"
      ],
      "metadata": {
        "id": "7s1VpnU4Mqsq"
      }
    },
    {
      "cell_type": "markdown",
      "source": [
        "## Ecosystem Service Modeling (ESM) frameworks\n",
        "\n",
        "- Madingley Model\n",
        "  - General Ecosystem Model\n",
        "  - simulate the biomass flow of species based on ecological processes(consumption, growth, reproduction, disperal, mortality)\n",
        "  - Limit: lack envir-econ feedback loops  \n",
        "\n",
        "- Generalised Dissimilarity Modeling (GDM)\n",
        "  -  statistical technique to spatial patterns if plant and animal presece(large regions)\n",
        "  -  adapt genetic relationships, dispersal barrier\n",
        "  - Application: spatial distribution, conservation,  climate-change impact\n",
        "\n",
        "- Global Biosphere Management Model  \n",
        "  - <u>partial equilibrium economic model</u> allocates land uses given the objective of mix consumer/producer surpluses(with rules defined by scenarios, targets, production constrains)\n",
        "  - Limit: Biodiversity only represented by 6 land cover classes\n",
        "\n",
        "- Global Biodiversity model (GLOBIO)\n",
        "   - estimate impact of environmental drivers\n",
        "on biodiversity\n",
        "   - cause-effect relationship + spatial information\n",
        "   - compare presence and mean of abundance for certain species in degraded ecosystems with undistrubed ones\n",
        "   - Application: environmental drivers on species abundance, abundance trends, scenario impacts, policy effects\n",
        "\n",
        "- CLUMondo  \n",
        "  - land cover change is the function of(exogenously demand for land)\n",
        "  - the model allocate land(every cells) via <u>transition potential</u>(suitability, resistance, advantage)\n",
        "  - CLUE: flexible, scale dependencies of driving factors of land use change(multi-scale)\n",
        "\n",
        "- Integrated Model to Assess the Global Environment (IMAGE)  \n",
        "  - Long-term global environmental change model\n",
        "  - contain ES module(8): food provision from agri, water, carbon sequestration, flood protection;[ wild food provision, erosion risk reduction, pollination, pest control, attractiveness for nature-based tourism](need additional envir variables and relationship)\n",
        "  - <u>compares supply vs. minimum required demand(threhold demand)</u>, can identify ES supply and demand imbalances\n",
        "\n",
        "- ARtificial Intelligence for Ecosystem Services (ARIES)\n",
        "  - Probabilistic models of <u>ES provision & useage</u>\n",
        "  - maps phycial flows of ecosystem benefits to beneficiaries\n",
        "  - builds open, FAIR-compliant data community\n",
        "\n",
        "- Integrated Valuation of Ecosystem Services and Tradeoffs (InVEST)\n",
        "  - toolbox for about 19 ES supply under land use/climate scenarios(user-defined)\n",
        "  - imput: spatial data & biophysical parameter files\n",
        "  - widely used, user-friendly, strong documentation\n",
        "\n",
        "- System Dynamics (SD) modeling\n",
        "   - link econ and ES\n",
        "   - explores system behavior under alternative scenarios, e.g. green econ modeling\n",
        "     - **thredhold 21**, long-term national planning(compare different policy for meeting a specfic goal)\n",
        "     - **Global Unified Metamodel of the Biosphere (GUMBO)** → MIMES,  simulate future land use changes across different land use types, based on\n",
        "economic & ES production functions\n",
        "     - **International Futures Simulator(IFs)** , large scale, long-term, 183 countries interacting with biodiversity, lack spatial detail\n",
        "   - can link econ,socal & envir, but don't have feedback between them\n",
        "\n",
        "- Bioeconomic-models\n",
        "   - 1. biological models + econ components\n",
        "   - 2. econ optimization models + bio-physical\n",
        "     - **Sustainable Options for Land Use Model (SOLUS)** linear programming, long-term policy sustainability (economic surplus, employment, nutrient balance)\n",
        "     - **Mali Bio-Economic Farm Household Model** farm household model(linear farm household optimization model with endogenous resource endowments & bio-physical processes ), farm response to argri policy, effectiveness to improve farm income and soil fertility  \n",
        "     - **EPIC regional agricultural model**, plant growth simulation + economic welfare impacts of policies→ Multilevel Analysis Tool for Agricultural Policy model **(MATA)**, dynamic-recusive model allows ex-ante simulation\n",
        "     - **Cost Benefit Analysis for Sustainability Model (COBAS)** dynamic bio-econ model for fisheries, interlinkage between econ- envir\n",
        "\n",
        "- Ecological Footprint\n",
        "   - Indicator of human demand vs. biocapacity (land & sea)\n",
        "   - National Footprint Accounts(NFA) UN FAO data, net consumption of a nation and the associated appropriation of land due to consumption\n",
        "   - measured in Global Hectares.\n",
        "   - linked with input–output models for trade/resource flows (Eora MRIO, WIOD, GTAP)\n",
        "\n",
        "\n"
      ],
      "metadata": {
        "id": "giSJU5deMvgc"
      }
    },
    {
      "cell_type": "markdown",
      "source": [
        "## Ecosystem Service Valuation & Model Parameter Databases\n",
        "\n",
        "- 1. Economic Metrics Linked to ES\n",
        "   - Metrics: economic welfare, income, employment, productivity, competitiveness, poverty, inequality, resource dependence\n",
        "   - values ES in monetary terms;\n",
        "   - case studies, not easily generalizable\n",
        "   - ES Valuation Databases:\n",
        "     - methods: stated and revealed preference, cost-based\n",
        "     - Environmental Valuation Reference Inventory(EVRI), over 4,000 environmental & health valuation studies, use in benefit transfer, not standardized to common units; includes non-ES studies(value environmental goods or bads not ES,like air pollution)\n",
        "     - Ecosystem Service Valuation Database (ESVD), standardized\n",
        "- 2. Ecosystem Model Parameter\n",
        "   - select ES parameters need to fit different situations and sample global availablity of data\n",
        "   - MAES\n",
        "     - maps ecosystems & baseline ES, develops scenarios, links natural capital to socio-economic systems\n",
        "     - supported by project: OpenNESS, OPERAs, VOLANTE, ESMERALDA, BON\n",
        "   - ARIES\n",
        "   - OPEN IEEM\n",
        "   - InVEST\n",
        "\n",
        "- 3. Meta-Analyses & Benefits Transfer\n",
        "   - support value transfer, create a value map\n",
        "   - limit: uncertainty in primary studies, generalization error, data gap...  "
      ],
      "metadata": {
        "id": "uduPrFbeGDr4"
      }
    },
    {
      "cell_type": "markdown",
      "source": [
        "## system of Environmental-Economic accounting(SEEA)\n",
        "\n",
        "- consistent with the System of National Accounts(SNA) with share accounting principles and concepts\n",
        "- unifying statistical framework to link ecosystems and the economy\n",
        "\n",
        "- **Five Main Ecosystem Accounts**\n",
        "  - extent account (physical units – size of ecosystem types)\n",
        "\n",
        "  - condition account (physical units – health of ecosystems)\n",
        "\n",
        "  - supply & use accounts (physical + monetary units – flows of ES)\n",
        "\n",
        "  - ecosystem monetary asset account (monetary units – stock values)\n",
        "- Ecosystem assets grouped into 15 classes(urban, forest, grassland, freshwater, marine...)\n",
        "\n"
      ],
      "metadata": {
        "id": "Tlc7kQJ6Xmzw"
      }
    },
    {
      "cell_type": "markdown",
      "source": [
        "## Investing in forests Enhances ecosystem services and economic Growth in Cambodia: Evidence from IEEM approach\n",
        "\n",
        "\n",
        "IMME linked with LULC and ESM\n",
        "where all economic sectors interact through prices, supply and demand relationships and factor(labor, captial, land)\n",
        "\n",
        "<img src=\"https://raw.githubusercontent.com/YueXuMoon/Image/main/earth_model/workflow.png\" width=\"250\">  \n",
        "get feedback loop from econ\n",
        "- Scenario\n",
        "  - **BASE**: Business-as-usual projection(counterfactual reference scenario)\n",
        "  - other conversation: NODEFOR(reduction in the rate of deforstation), AFFOR(afforestation), RESTORE, combination of senarios\n",
        "\n",
        "\n",
        "\n",
        "\n",
        "\n",
        "\n"
      ],
      "metadata": {
        "id": "JWUxx2s5OqjL"
      }
    },
    {
      "cell_type": "code",
      "source": [],
      "metadata": {
        "id": "8uP6R8VzY2U2"
      },
      "execution_count": null,
      "outputs": []
    }
  ]
}