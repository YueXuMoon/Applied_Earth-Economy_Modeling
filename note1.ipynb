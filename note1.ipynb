{
  "nbformat": 4,
  "nbformat_minor": 0,
  "metadata": {
    "colab": {
      "provenance": [],
      "authorship_tag": "ABX9TyNjl5wXlDuYX+oSrlG4WXD4",
      "include_colab_link": true
    },
    "kernelspec": {
      "name": "python3",
      "display_name": "Python 3"
    },
    "language_info": {
      "name": "python"
    }
  },
  "cells": [
    {
      "cell_type": "markdown",
      "metadata": {
        "id": "view-in-github",
        "colab_type": "text"
      },
      "source": [
        "<a href=\"https://colab.research.google.com/github/YueXuMoon/Applied_Earth-Economy_Modeling/blob/main/note1.ipynb\" target=\"_parent\"><img src=\"https://colab.research.google.com/assets/colab-badge.svg\" alt=\"Open In Colab\"/></a>"
      ]
    },
    {
      "cell_type": "code",
      "execution_count": null,
      "metadata": {
        "id": "4SUixSsoP3wi"
      },
      "outputs": [],
      "source": []
    },
    {
      "cell_type": "markdown",
      "source": [
        "# Note:Earth-Economy Modeling: Advances in Linking Economics and Ecosystem Models(Johnson 2025)"
      ],
      "metadata": {
        "id": "1MRM40iTP4aR"
      }
    },
    {
      "cell_type": "markdown",
      "source": [
        "Def: **Earth-Economy (EE) models** global models that combine general equilibrium economic models with high-resolution Earth systems models, incorporating <u>two-way linkages</u> (impacts and dependencies) between Earth systems and economic systems\n",
        "\n",
        "These models aims to capture global interdependencies such as trade, biodiversity loss, and climate feedbacks, which neither economic nor Earth system models can fully address in isolation.\n",
        "\n"
      ],
      "metadata": {
        "id": "j2tQtvpCQ7T5"
      }
    },
    {
      "cell_type": "markdown",
      "source": [
        ">>using AI to do the literature review that is quite novel, then vertify them for credibility"
      ],
      "metadata": {
        "id": "gMTUexpwU2cO"
      }
    },
    {
      "cell_type": "markdown",
      "source": [
        "## EE relited models\n",
        "\n",
        "* 1.Integrated Assessment Models(IAM)\n",
        ">*  climate-focused IAMs, primarily address the climate change\n",
        ">*  comprehensive IAMs, broader range of sectors and geographic scales\n",
        "\n",
        "\n",
        "Comparison: Climate-focused IAMs vs. Comprehensive IAMs\n",
        "\n",
        "### Comparison: Climate-focused IAMs vs. Comprehensive IAMs vs. Gradual Convergence\n",
        "\n",
        "| Aspect                | Climate-focused IAMs                                                                 | Comprehensive IAMs                                                                 | Gradual Convergence                                                                 |\n",
        "|------------------------|---------------------------------------------------------------------------------------|------------------------------------------------------------------------------------|--------------------------------------------------------------------------------------|\n",
        "| **Focus**             | Primarily climate change and economic implications (carbon pricing, mitigation, adaptation) | Broader sustainability: land use, agriculture, forestry, water, biodiversity + climate | Linking climate, land, water, energy, biodiversity into **integrated Earth–Economy models** |\n",
        "| **Scale**             | Global, highly aggregated                                                             | Regional to global, sometimes with local resolution                                | Moving toward **multi-scale** (global + regional/local) integration                   |\n",
        "| **Key Models**        | DICE, FUND, PAGE                                                                      | GCAM, IMAGE, GLOBIOM, MAgPIE, AIM                                                  | Hybrids: coupling IAMs with CGE models, Earth system models, and ecosystem service models |\n",
        "| **Strengths**         | Simple, optimization-based; clear policy insights on carbon pricing and emissions pathways | Holistic multi-sector perspective; integrates food, energy, water, environment; captures trade-offs | Can address **cross-sectoral policy trade-offs**, tipping points, and sustainability pathways |\n",
        "| **Limitations**       | Limited ecological detail; ignore biodiversity & ecosystem services; simplified climate dynamics | Computationally complex; often partial equilibrium; less focus on long-term growth/technology | Integration challenges: **computational burden, consistency, data harmonization** |\n",
        "| **Policy Applications** | Carbon pricing, optimal emissions trajectories, international climate policy          | Food security, biodiversity conservation, land-use planning, energy-water-climate nexus | Cross-cutting strategies: climate justice, biodiversity–climate trade-offs, sustainable development goals (SDGs) |\n",
        "\n",
        "\n",
        "comprehensive IAMs often include model or submodel based on partial equilibrium economics modeling, meaning some part of economics systems are <u>exogenous</u>, e.g. overall GDP growth, agricultural crop yield; <u>solution methods</u> using cost-minimizaition or surplus(welfare) maximization\n",
        "\n",
        "\n",
        "The trade-off between comprehensive and climate IAMs reflects different uses of <u>computational resources</u>—detail versus dynamic optimality—yet both omit key Earth–economy processes, which CGE models address more endogenously but with less biophysical focus.\n",
        "\n",
        "\n",
        "\n",
        "\n",
        "\n",
        "\n"
      ],
      "metadata": {
        "id": "RDh4-emOUtae"
      }
    },
    {
      "cell_type": "markdown",
      "source": [
        "## CGE\n",
        "Def: Economy-wide models that simulate how markets, sectors, and agents interact, ensuring supply and demand balance across all markets.\n",
        "\n",
        "These models employ a general equilibrium framework, ensuring that **all markets clear** simultaneously by balancing supply and demand across sector\n",
        "\n",
        "Focus: Trace the economic effects of shocks (policy, trade, environmental changes) across production, consumption, and trade.\n",
        "\n",
        "Strengths: Capture feedbacks between sectors, factor markets, and households; can represent heterogeneity across regions and income groups; flexible for policy scenarios, capture **indirect effect ripple across economies through response of price effect**\n",
        "\n",
        "Limitations: Often lack detailed ecological/biophysical processes; rely on static or simplified assumptions about technology and dynamics\n",
        "\n",
        "Applications: Transiting from fossil fuel to renewable energy secot, Agri subsidies, trade and land-use policies,biofuel mandates, other policies with direct impact on land use and envirnmental quality.\n",
        "\n",
        "can use land as distinct inputs measured in term of area\n"
      ],
      "metadata": {
        "id": "S2yQ9pZ-ZThX"
      }
    },
    {
      "cell_type": "markdown",
      "source": [
        "## Dynamic Stochastic General Equilibrium Model\n",
        "Def: Forward-looking, micro-founded economic models where households and firms optimize behavior under uncertainty, with dynamics driven by stochastic shocks.\n",
        "\n",
        "sustainability analysis : E-DSGE\n",
        "economics impact: DSGEs\n",
        "\n",
        "\n",
        "Focus: Capture how economies adjust over time to shocks (policy, technology, environment) while maintaining internal consistency in agents’ decisions.\n",
        "\n",
        "Strengths: Strong grounding in economic theory; emphasize uncertainty, dynamics, and expectations; useful for monetary, fiscal, and climate–economic policy analysis\n",
        "\n",
        "Limitations: Ecological and biophysical processes are highly simplified or excluded; environmental damages often reduced to abstract “shocks” in production or utility\n",
        "\n",
        "Applications ): Used to model uncertainty in climate damages, technology change, and policy design, though less integrated with ecological detail than IAMs or CGEs"
      ],
      "metadata": {
        "id": "dBytR6ZAfnQb"
      }
    },
    {
      "cell_type": "markdown",
      "source": [
        "## Gridded Economic Models\n",
        "\n",
        "Def: Economic models with spatially explicit, gridded resolution (instead of country or sector aggregates), linking local land use, resources, and ecosystems with global markets.\n",
        "\n",
        "earliest model include griedded econ: MAgPIE\n",
        "more focus on market equilibrium : SIMPLE-G\n",
        "\n",
        "\n",
        "Strengths: Capture heterogeneity across space; can represent local land-use change, food production, and resource pressures while linking to global trade.\n",
        "\n",
        "Limitations: Computationally demanding; often emphasize agriculture and land-use but omit other sectors (e.g., energy, mining); less emphasis on full general equilibrium.\n",
        "\n",
        "Applications: Explore global–local interactions in land use, food security, and climate–biodiversity trade-offs.\n",
        "\n",
        "another: apply a DICE-like framework across 19000 grid cells"
      ],
      "metadata": {
        "id": "L4jIORmbfNLQ"
      }
    },
    {
      "cell_type": "markdown",
      "source": [
        "## Ecosystem Services and Natural Capital\n",
        "\n",
        "Def: Ecosystem services (nature’s contributions to people) are the benefits humans receive from ecosystems — e.g., carbon storage, pollination, fisheries, water purification.\n",
        "\n",
        "Models such as InVEST, ARIES, GLOBIO, SEALS\n",
        "\n",
        "Strengths: Provide spatially explicit estimates of how ecosystems support economic and social outcomes; connect biodiversity and ecosystem processes to human welfare.\n",
        "\n",
        "Limitations in current Earth–Economy models:\n",
        "\n",
        "* Only a narrow set of services is typically included (timber, carbon, pollination, fisheries).\n",
        "\n",
        "* Other critical services (soil quality, water regulation, tourism, air purification, cultural services) are often excluded.\n",
        "\n",
        "* Many models focus on land-use change and conservation but leave out sectors like mining or energy\n",
        "\n",
        "Policy Relevance: Inform conservation subsidies, biodiversity targets, and trade-off analyses between conservation, agriculture, and development."
      ],
      "metadata": {
        "id": "cz44WENRjc6G"
      }
    },
    {
      "cell_type": "markdown",
      "source": [
        "\n"
      ],
      "metadata": {
        "id": "3o48meGrVdYT"
      }
    }
  ]
}