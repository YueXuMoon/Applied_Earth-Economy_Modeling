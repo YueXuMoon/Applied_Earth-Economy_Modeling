{
  "nbformat": 4,
  "nbformat_minor": 0,
  "metadata": {
    "colab": {
      "provenance": [],
      "authorship_tag": "ABX9TyOz30wp606ZGuiKPhbCuc5b",
      "include_colab_link": true
    },
    "kernelspec": {
      "name": "python3",
      "display_name": "Python 3"
    },
    "language_info": {
      "name": "python"
    }
  },
  "cells": [
    {
      "cell_type": "markdown",
      "metadata": {
        "id": "view-in-github",
        "colab_type": "text"
      },
      "source": [
        "<a href=\"https://colab.research.google.com/github/YueXuMoon/Applied_Earth-Economy_Modeling/blob/main/Julia_install.ipynb\" target=\"_parent\"><img src=\"https://colab.research.google.com/assets/colab-badge.svg\" alt=\"Open In Colab\"/></a>"
      ]
    },
    {
      "cell_type": "markdown",
      "source": [
        "# Install Julia\n",
        "\n",
        "- Get the [LONG-TERM SUPPORT release](https://julialang.org/downloads/)\n",
        "\n",
        "default options, ensure <u>add Jualia to PATH</u>\n",
        "\n",
        "- ios use terminal to add julia to PATH\n",
        "\n",
        "\n",
        "Check if Julia is Installed\n",
        "```\n",
        "ls /Applications | grep -i julia\n",
        "```\n",
        "\n",
        "Add Julia to Your PATH\n",
        "```\n",
        "nano ~/.zshrc\n",
        "```\n",
        "\n",
        "Add this **line at the end** (adjust the version if yours is different):\n",
        "```\n",
        "export PATH=\"/Applications/Julia-1.10.app/Contents/Resources/julia/bin:$PATH\"\n",
        "```\n",
        "\n",
        "Save (CTRL+O, ENTER, CTRL+X), then reload:\n",
        "```\n",
        "source ~/.zshrc\n",
        "```\n",
        "\n",
        "Test:\n",
        "```\n",
        "julia\n",
        "```"
      ],
      "metadata": {
        "id": "9t99oX2UXEDD"
      }
    },
    {
      "cell_type": "markdown",
      "source": [
        "- install package\n",
        "type `]`\n",
        "\n",
        "- install Mimi modeling framework to illustrate the Pkg tool\n",
        "Mimi is a Julia package for integrated assessment models developed in connection with Resources for the Future's Social Cost of Carbon Initiative.\n",
        "\n",
        "[Github](https://github.com/mimiframework/Mimi.jl?tab=readme-ov-file)\n",
        "\n",
        "[Installation](https://www.mimiframework.org/Mimi.jl/stable/)\n",
        "\n",
        "\n",
        "intall Mimi\n",
        "```\n",
        "pkg> add Mimi\n",
        "```\n",
        "\n",
        "update\n",
        "```\n",
        "pkg> update Mimi\n",
        "```\n",
        "\n",
        "```\n",
        "pkg>add ArchGDAL Mimi DataFrames JuMP CSV Plots Statistics GLM Optim JSON\n",
        "```\n",
        "\n",
        "`ctrl + c` back to julia prompt\n",
        "\n",
        "\n",
        "```\n",
        "using Mimi\n",
        "```\n",
        "\n",
        "```\n",
        "pkg> registry add https://github.com/mimiframework/MimiRegistry.git\n",
        "```\n",
        "\n",
        "add the DICE 2016 model directly\n",
        "```\n",
        "add https://github.com/AlexandrePavlov/MimiDICE2016.jl\n",
        "```"
      ],
      "metadata": {
        "id": "PymdITxgsraW"
      }
    }
  ]
}